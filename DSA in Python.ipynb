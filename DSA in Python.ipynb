{
 "cells": [
  {
   "cell_type": "markdown",
   "id": "326f2949-ba0b-416f-8ae4-0d3f5a5417c6",
   "metadata": {},
   "source": [
    "# Table of Contents\n",
    "\n",
    "- [1. Program to count digits in an integer](#1.-Program-to-count-digits-in-an-integer)\n",
    "- [2. Absolute value of a number](#2.-Absolute-value-of-a-number)\n",
    "- [3. Convert Celsius to Farheniet](#3.-Convert-Celsius-to-Farheniet)\n",
    "- [4. Roots of a quadratic equation](#4.-Roots-of-a-quadratic-equation)\n",
    "- [5. Palindrome Numbers](#5.-Palindrome-Numbers)\n",
    "- [6. Factorial of a number](#6.-Factorial-of-a-number)\n",
    "- [7. Digits in a factorial of a number](#7.-Digits-in-a-factorial-of-a-number)\n",
    "- [8. Trailing zeroes in a factorial of a number](#8.-Trailing-zeroes-in-a-factorial-of-a-number)\n",
    "- [9. GCD of two numbers](#9.-GCD-of-two-numbers)\n",
    "- [10. LCM of two numbers](#10.-LCM-of-two-numbers)\n",
    "- [11. Check if a number is prime](#11.-Check-if-a-number-is-prime)\n",
    "- [12. Find prime factors of a number](#12.-Find-prime-factors-of-a-number)\n",
    "- [13. Find number less than N having exactly 3 divisors](#13.-Find-number-less-than-N-having-exactly-3-divisors)\n",
    "- [14. Find n<sup>th</sup> term of a GP](#14.-Find-n<sup>th</sup>-term-of-a-GP)\n",
    "- [15. Divisors of a number](#15.-Divisors-of-a-number)\n",
    "- [16. Sieve of Eratosthenes](#16.-Sieve-of-Eratosthenes)\n",
    "- [17. Power to a number](#17.-Power-to-a-number)"
   ]
  },
  {
   "cell_type": "code",
   "execution_count": 1,
   "id": "a12e49bb-babc-4578-b1a8-717f3c2d063d",
   "metadata": {},
   "outputs": [],
   "source": [
    "import math"
   ]
  },
  {
   "cell_type": "markdown",
   "id": "2fc61804-991d-450a-9b9f-6c0df99bd990",
   "metadata": {},
   "source": [
    "# 1. Program to count digits in an integer\n",
    "\n",
    "[Go to index](#Table-of-Contents)\n"
   ]
  },
  {
   "cell_type": "code",
   "execution_count": 5,
   "id": "c6c546a6-02fd-4207-bc83-88bd28f7fa10",
   "metadata": {},
   "outputs": [],
   "source": [
    "def count_digits_recursive(n):\n",
    "    n = abs(n)\n",
    "    if (n > 0):\n",
    "        return 1 + count_digits_recursive(n//10)\n",
    "    else:\n",
    "        return 0"
   ]
  },
  {
   "cell_type": "code",
   "execution_count": 6,
   "id": "c7526664-7e77-41ef-8641-4d0d6d952de9",
   "metadata": {},
   "outputs": [],
   "source": [
    "def count_digits_iterative(n):\n",
    "    n = abs(n)\n",
    "    if (n == 0):\n",
    "        return 1\n",
    "    count = 0\n",
    "    while (n != 0):\n",
    "        n = n // 10\n",
    "        count = count + 1\n",
    "    return count"
   ]
  },
  {
   "cell_type": "code",
   "execution_count": 7,
   "id": "d4f2f231-900c-4471-a088-74a921fceee9",
   "metadata": {},
   "outputs": [
    {
     "name": "stdout",
     "output_type": "stream",
     "text": [
      "3\n",
      "3\n",
      "3\n",
      "3\n"
     ]
    }
   ],
   "source": [
    "print(count_digits_recursive(555))\n",
    "print(count_digits_recursive(-555))\n",
    "print(count_digits_iterative(555))\n",
    "print(count_digits_iterative(-555))"
   ]
  },
  {
   "cell_type": "markdown",
   "id": "5d9604a4-4733-4654-8ce9-475c9df36c03",
   "metadata": {},
   "source": [
    "# 2. Absolute value of a number\n",
    "\n",
    "[Go to index](#Table-of-Contents)\n"
   ]
  },
  {
   "cell_type": "code",
   "execution_count": 9,
   "id": "67982556-2c41-48fe-aea3-286c04b8bff2",
   "metadata": {},
   "outputs": [],
   "source": [
    "def absolute_in_built(n):\n",
    "    return abs(n)"
   ]
  },
  {
   "cell_type": "code",
   "execution_count": 10,
   "id": "faa086e3-42f6-4b7b-86a9-aa6f11e64569",
   "metadata": {},
   "outputs": [],
   "source": [
    "def absolute(n):\n",
    "    if n < 0:\n",
    "        return n*-1\n",
    "    return n"
   ]
  },
  {
   "cell_type": "code",
   "execution_count": 11,
   "id": "8acc6c2c-b895-489d-996f-c3a8cb569c21",
   "metadata": {},
   "outputs": [
    {
     "name": "stdout",
     "output_type": "stream",
     "text": [
      "10\n",
      "10\n",
      "0\n",
      "99\n",
      "99\n",
      "0\n"
     ]
    }
   ],
   "source": [
    "print(absolute_in_built(10))\n",
    "print(absolute_in_built(-10))\n",
    "print(absolute_in_built(0))\n",
    "print(absolute(-99))\n",
    "print(absolute(99))\n",
    "print(absolute(0))"
   ]
  },
  {
   "cell_type": "markdown",
   "id": "2177a091-ced6-4b3c-b36a-e778519bfbd0",
   "metadata": {},
   "source": [
    "# 3. Convert Celsius to Farheniet\n",
    "\n",
    "[Go to index](#Table-of-Contents)\n"
   ]
  },
  {
   "cell_type": "code",
   "execution_count": 12,
   "id": "e195150d-d876-4ca8-a8e5-0a63387906aa",
   "metadata": {},
   "outputs": [],
   "source": [
    "def c_to_f(c):\n",
    "    f = 9*c/5 + 32\n",
    "    return f"
   ]
  },
  {
   "cell_type": "code",
   "execution_count": 13,
   "id": "59157cb5-dc09-457c-b0dc-98582ba1ff8a",
   "metadata": {},
   "outputs": [
    {
     "data": {
      "text/plain": [
       "86.0"
      ]
     },
     "execution_count": 13,
     "metadata": {},
     "output_type": "execute_result"
    }
   ],
   "source": [
    "c_to_f(30)"
   ]
  },
  {
   "cell_type": "markdown",
   "id": "af5294e3-8e63-4b32-ab79-c9f55c0d43a5",
   "metadata": {},
   "source": [
    "# 4. Roots of a quadratic equation\n",
    "\n",
    "[Go to index](#Table-of-Contents)\n"
   ]
  },
  {
   "cell_type": "code",
   "execution_count": 14,
   "id": "3d5e9d6b-e28d-4618-a01c-33862556a313",
   "metadata": {},
   "outputs": [],
   "source": [
    "def roots(a, b, c):\n",
    "    x = b*b - 4*a*c\n",
    "    if x < 0:\n",
    "        return -1\n",
    "    x1 = -1*b - x\n",
    "    x1 = x1 / (2*a)\n",
    "    x2 = -1*b + x\n",
    "    x2 = x2 / (2*a)\n",
    "    return [x1, x2]"
   ]
  },
  {
   "cell_type": "code",
   "execution_count": 15,
   "id": "93b99061-f2be-4ee9-9a24-0b8252415eb7",
   "metadata": {},
   "outputs": [
    {
     "data": {
      "text/plain": [
       "[2.0, 3.0]"
      ]
     },
     "execution_count": 15,
     "metadata": {},
     "output_type": "execute_result"
    }
   ],
   "source": [
    "roots(1, -5, 6)"
   ]
  },
  {
   "cell_type": "markdown",
   "id": "05bf6da1-b8b6-4e36-aa6b-14ffc17c040e",
   "metadata": {},
   "source": [
    "# 5. Palindrome Numbers\n",
    "\n",
    "Check if a number is palindrome or not \\\n",
    "[Go to index](#Table-of-Contents)\n"
   ]
  },
  {
   "cell_type": "code",
   "execution_count": 16,
   "id": "7e151f95-4e34-4e93-869c-1fb6b1e57b2c",
   "metadata": {},
   "outputs": [],
   "source": [
    "def check_palindrome(n):\n",
    "    reverse = 0\n",
    "    temp = n\n",
    "    while (n != 0):\n",
    "        temp_mod = n % 10\n",
    "        reverse = reverse*10\n",
    "        reverse = reverse + temp_mod\n",
    "        n = n//10\n",
    "    return reverse == temp"
   ]
  },
  {
   "cell_type": "code",
   "execution_count": 17,
   "id": "74f20365-9403-493b-92f8-84175a68b093",
   "metadata": {},
   "outputs": [
    {
     "name": "stdout",
     "output_type": "stream",
     "text": [
      "False\n",
      "True\n",
      "True\n",
      "False\n"
     ]
    }
   ],
   "source": [
    "print(check_palindrome(123))\n",
    "print(check_palindrome(555))\n",
    "print(check_palindrome(1001))\n",
    "print(check_palindrome(100))"
   ]
  },
  {
   "cell_type": "markdown",
   "id": "462153b6-c384-4828-a58c-334b6c802bf2",
   "metadata": {},
   "source": [
    "# 6. Factorial of a number\n",
    "\n",
    "[Go to index](#Table-of-Contents)\n"
   ]
  },
  {
   "cell_type": "code",
   "execution_count": 18,
   "id": "763c14c1-045b-4232-a72a-c9ac1af87f5a",
   "metadata": {},
   "outputs": [],
   "source": [
    "def factorial_recursive(n):\n",
    "    if n < 2:\n",
    "        return 1\n",
    "    return n * factorial_recursive(n-1)"
   ]
  },
  {
   "cell_type": "code",
   "execution_count": 19,
   "id": "cee1b6e8-c82f-40a3-ad73-f90f78533e2b",
   "metadata": {},
   "outputs": [
    {
     "name": "stdout",
     "output_type": "stream",
     "text": [
      "119622220865480194561963161495657715064383733760000000000\n"
     ]
    }
   ],
   "source": [
    "print(factorial_recursive(45))"
   ]
  },
  {
   "cell_type": "code",
   "execution_count": 20,
   "id": "5fd73210-190b-4fd0-b0b5-1f9da6443eaa",
   "metadata": {},
   "outputs": [],
   "source": [
    "def factorial_iterative(n):\n",
    "    fact = 1\n",
    "    for i in range(1, n+1):\n",
    "        fact = fact * i\n",
    "    return fact"
   ]
  },
  {
   "cell_type": "code",
   "execution_count": 21,
   "id": "6f4d1de1-13ff-430b-84b4-dbf77b70cc5a",
   "metadata": {},
   "outputs": [
    {
     "data": {
      "text/plain": [
       "119622220865480194561963161495657715064383733760000000000"
      ]
     },
     "execution_count": 21,
     "metadata": {},
     "output_type": "execute_result"
    }
   ],
   "source": [
    "factorial_iterative(45)"
   ]
  },
  {
   "cell_type": "markdown",
   "id": "bd6ba552-67db-4d8c-8103-b7e472661665",
   "metadata": {},
   "source": [
    "# 7. Digits in a factorial of a number\n",
    "\n",
    "[Go to index](#Table-of-Contents)\n"
   ]
  },
  {
   "cell_type": "code",
   "execution_count": 22,
   "id": "b21cdc3f-71a6-412b-b0cf-3a6e520199b0",
   "metadata": {},
   "outputs": [],
   "source": [
    "def factorial_digits(n):\n",
    "    if n < 0:\n",
    "        return 0\n",
    "    elif n == 0 or n == 1:\n",
    "        return 1\n",
    "    log_sum = 0\n",
    "    for i in range(1, n+1):\n",
    "        log_sum += math.log10(i)\n",
    "    return math.floor(log_sum) + 1"
   ]
  },
  {
   "cell_type": "code",
   "execution_count": 23,
   "id": "9440407b-60b4-4cfb-818c-48139d4a6500",
   "metadata": {},
   "outputs": [
    {
     "data": {
      "text/plain": [
       "199"
      ]
     },
     "execution_count": 23,
     "metadata": {},
     "output_type": "execute_result"
    }
   ],
   "source": [
    "factorial_digits(120)"
   ]
  },
  {
   "cell_type": "markdown",
   "id": "d8f40c0f-d8dc-4e5c-889d-7e10c91ff671",
   "metadata": {},
   "source": [
    "# 8. Trailing zeroes in a factorial of a number\n",
    "\n",
    "[Go to index](#Table-of-Contents)\n"
   ]
  },
  {
   "cell_type": "code",
   "execution_count": 24,
   "id": "24022f38-8ee9-401d-ae1d-d1c2a0c5042d",
   "metadata": {},
   "outputs": [],
   "source": [
    "def trailing_zeroes_factorial(n):\n",
    "    count = 0\n",
    "    while (n//5 >= 1):\n",
    "        n = n // 5\n",
    "        count += n\n",
    "    return count"
   ]
  },
  {
   "cell_type": "code",
   "execution_count": 25,
   "id": "57c0c875-fd5d-4187-8334-3a7c32ea5370",
   "metadata": {},
   "outputs": [
    {
     "data": {
      "text/plain": [
       "24"
      ]
     },
     "execution_count": 25,
     "metadata": {},
     "output_type": "execute_result"
    }
   ],
   "source": [
    "trailing_zeroes_factorial(100)"
   ]
  },
  {
   "cell_type": "markdown",
   "id": "5ff2b65c-b019-47aa-8aab-ad91d681b218",
   "metadata": {},
   "source": [
    "# 9. GCD of two numbers\n",
    "\n",
    "[Go to index](#Table-of-Contents)\n"
   ]
  },
  {
   "cell_type": "code",
   "execution_count": 26,
   "id": "5e32be9b-79a6-4576-9d9e-4bd622e6453e",
   "metadata": {},
   "outputs": [],
   "source": [
    "def gcd(a, b):\n",
    "    if b == 0:\n",
    "        return a\n",
    "    else:\n",
    "        return gcd(b, a % b)"
   ]
  },
  {
   "cell_type": "code",
   "execution_count": 27,
   "id": "719143da-a184-466d-9095-0e8577bb0a93",
   "metadata": {},
   "outputs": [
    {
     "data": {
      "text/plain": [
       "5"
      ]
     },
     "execution_count": 27,
     "metadata": {},
     "output_type": "execute_result"
    }
   ],
   "source": [
    "gcd(5, 10)"
   ]
  },
  {
   "cell_type": "code",
   "execution_count": 28,
   "id": "66c8c3e6-10de-4326-8023-c1260933effc",
   "metadata": {},
   "outputs": [
    {
     "data": {
      "text/plain": [
       "5"
      ]
     },
     "execution_count": 28,
     "metadata": {},
     "output_type": "execute_result"
    }
   ],
   "source": [
    "gcd(10, 5)"
   ]
  },
  {
   "cell_type": "markdown",
   "id": "b8d0ebd9-e570-4784-8dfe-be0512c8728b",
   "metadata": {},
   "source": [
    "# 10. LCM of two numbers\n",
    "\n",
    "LCM of two numbers is defined as product of the numbers divided by their GCD\n",
    "[Go to index](#Table-of-Contents)\n"
   ]
  },
  {
   "cell_type": "code",
   "execution_count": 30,
   "id": "f5b9ab14-221d-4ff3-998d-8f415c431a7d",
   "metadata": {},
   "outputs": [],
   "source": [
    "def lcm(a, b):\n",
    "    return (a*b)//gcd(a, b)"
   ]
  },
  {
   "cell_type": "code",
   "execution_count": 31,
   "id": "465d2061-1fcc-4faf-8e17-74dba0405788",
   "metadata": {},
   "outputs": [
    {
     "data": {
      "text/plain": [
       "120"
      ]
     },
     "execution_count": 31,
     "metadata": {},
     "output_type": "execute_result"
    }
   ],
   "source": [
    "lcm(5, 24)"
   ]
  },
  {
   "cell_type": "markdown",
   "id": "d8eea147-30e5-4775-8757-11ddfa5e985a",
   "metadata": {},
   "source": [
    "# 11. Check if a number is prime\n",
    "\n",
    "[Go to index](#Table-of-Contents)\n"
   ]
  },
  {
   "cell_type": "code",
   "execution_count": 32,
   "id": "b64ff9ce-b60a-46a7-8843-344c7d8d0dab",
   "metadata": {},
   "outputs": [],
   "source": [
    "def is_prime_naive(n):\n",
    "    if n == 0 or n == 1:\n",
    "        return False\n",
    "    for i in range(2, n):\n",
    "        if n % i == 0:\n",
    "            return [n, False]\n",
    "    return [n, True]"
   ]
  },
  {
   "cell_type": "code",
   "execution_count": 33,
   "id": "31ca2591-c028-4492-a670-bef8a387401e",
   "metadata": {},
   "outputs": [],
   "source": [
    "def is_prime_optimized_1(n):\n",
    "    if n < 2:\n",
    "        return [n, False]\n",
    "    for i in range(2, (int)(math.sqrt(n) + 1)):\n",
    "        if n % i == 0:\n",
    "            return [n, False]\n",
    "    return [n, True]"
   ]
  },
  {
   "cell_type": "code",
   "execution_count": 34,
   "id": "c0794da1-1211-46df-bb9e-d2d8609e1637",
   "metadata": {},
   "outputs": [],
   "source": [
    "def is_prime_optimized_2(n):\n",
    "    if n < 2:\n",
    "        return [n, False]\n",
    "    if n <= 3:\n",
    "        return [n, True]\n",
    "    if n % 2 == 0 or n % 3 == 0:\n",
    "        return [n, False]\n",
    "    for i in range(5, int(math.sqrt(n) + 1), 6):\n",
    "        if (n % i == 0 or n % (i+2) == 0):\n",
    "            return [n, False]\n",
    "    return [n, True]"
   ]
  },
  {
   "cell_type": "markdown",
   "id": "cc3a43d2-625f-40e1-a2dc-e6689690a837",
   "metadata": {},
   "source": [
    "# 12. Find prime factors of a number\n",
    "\n",
    "[Go to index](#Table-of-Contents)\n"
   ]
  },
  {
   "cell_type": "code",
   "execution_count": 35,
   "id": "158c861f-f85c-4db4-a998-00b3d698b722",
   "metadata": {},
   "outputs": [],
   "source": [
    "def prime_factors(n):\n",
    "    factors = []\n",
    "    if n <= 1:\n",
    "        return\n",
    "    while n % 2 == 0:\n",
    "        factors.append(2)\n",
    "        n = n // 2\n",
    "    for i in range(3, int(math.sqrt(n)) + 1, 2):\n",
    "        while n % i == 0:\n",
    "            factors.append(i)\n",
    "            n //= i\n",
    "    if n > 2:\n",
    "        factors.append(n)\n",
    "    return factors"
   ]
  },
  {
   "cell_type": "code",
   "execution_count": 36,
   "id": "3d019d3b-dc2a-4a05-ae78-682354a4ee22",
   "metadata": {},
   "outputs": [],
   "source": [
    "def prime_factors_2(n):\n",
    "    factors = []\n",
    "    if n <= 1:\n",
    "        return\n",
    "    while n % 2 == 0:\n",
    "        factors.append(2)\n",
    "        n //= 2\n",
    "    while n % 3 == 0:\n",
    "        factors.append(3)\n",
    "        n //= 3\n",
    "    i = 5\n",
    "    while math.sqrt(i) <= n:\n",
    "        while n % i == 0:\n",
    "            factors.append(i)\n",
    "            n //= i\n",
    "        while n % (i+2) == 0:\n",
    "            factors.append(i+2)\n",
    "            n //= (i+2)\n",
    "        i += 6\n",
    "    if n > 3:\n",
    "        factors.append(n)\n",
    "    return factors"
   ]
  },
  {
   "cell_type": "markdown",
   "id": "2bd3bd40-1985-4834-b4f7-2ae39ea4c4a9",
   "metadata": {},
   "source": [
    "# 13. Find number less than N having exactly 3 divisors\n",
    "[Go to index](#Table-of-Contents)"
   ]
  },
  {
   "cell_type": "code",
   "execution_count": 37,
   "id": "716c1f28",
   "metadata": {},
   "outputs": [],
   "source": [
    "def count_numbers_with_3_divisors(n):\n",
    "    def has_3_divisors(temp):\n",
    "        count = 0\n",
    "        for i in range(1, int(temp**0.5)+1):\n",
    "            if temp % i == 0:\n",
    "                if i == temp // i:\n",
    "                    count +=1\n",
    "                else:\n",
    "                    count += 2\n",
    "            if count > 3:\n",
    "                return False\n",
    "        return count == 3\n",
    "    count = 0\n",
    "    for num in range(1, n + 1):\n",
    "        if has_3_divisors(num):\n",
    "            count += 1\n",
    "    return count"
   ]
  },
  {
   "cell_type": "markdown",
   "id": "adee5202",
   "metadata": {},
   "source": [
    "# 14. Find n<sup>th</sup> term of a GP\n",
    "[Go to index](#Table-of-Contents)"
   ]
  },
  {
   "cell_type": "code",
   "execution_count": 40,
   "id": "1e7172e8",
   "metadata": {},
   "outputs": [],
   "source": [
    "def nth_gp_term(a, b, n):\n",
    "    ratio = b / a\n",
    "    return a * ratio**(n-1)"
   ]
  },
  {
   "cell_type": "markdown",
   "id": "8fbcfbf9",
   "metadata": {},
   "source": [
    "# 15. Divisors of a number\n",
    "[Go to index](#Table-of-Contents) "
   ]
  },
  {
   "cell_type": "code",
   "execution_count": 43,
   "id": "7ee9a4a7",
   "metadata": {},
   "outputs": [],
   "source": [
    "def divisors(n):\n",
    "    divisors = []\n",
    "    for i in range(1, int(math.sqrt(n)) + 1):\n",
    "        if n % i == 0:\n",
    "            if n // i == i:\n",
    "                divisors.append(i)\n",
    "            else:\n",
    "                divisors.append(i)\n",
    "                divisors.append(n//i)\n",
    "    return divisors"
   ]
  },
  {
   "cell_type": "code",
   "execution_count": 44,
   "id": "6310b58a",
   "metadata": {},
   "outputs": [
    {
     "name": "stdout",
     "output_type": "stream",
     "text": [
      "[1, 20, 2, 10, 4, 5]\n"
     ]
    }
   ],
   "source": [
    "print(divisors(20))"
   ]
  },
  {
   "cell_type": "markdown",
   "id": "98d5fe86",
   "metadata": {},
   "source": [
    "# 16. Sieve of Eratosthenes\n",
    "[Go to index](#Table-of-Contents)"
   ]
  },
  {
   "cell_type": "code",
   "execution_count": 46,
   "id": "879d8365",
   "metadata": {},
   "outputs": [],
   "source": [
    "def sieve_of_eratosthenes(n):\n",
    "    prime = [True]*(n+1)\n",
    "    prime[0] = prime[1] = False\n",
    "    p = 2\n",
    "    while (p*p <= n):\n",
    "        if prime[p] == True:\n",
    "            for i in range(p * p, n + 1, p):\n",
    "                prime[i] = False\n",
    "        p += 1\n",
    "    primes = [p for p in range(2, n + 1) if prime[p]]\n",
    "    return primes"
   ]
  },
  {
   "cell_type": "markdown",
   "id": "db61fed0",
   "metadata": {},
   "source": [
    "# 17. Power to a number\n",
    "[Go to index](#Table-of-Contents)"
   ]
  },
  {
   "cell_type": "code",
   "execution_count": 52,
   "id": "c7a596d4",
   "metadata": {},
   "outputs": [],
   "source": [
    "def power_iterative(a, b):\n",
    "    res = 1\n",
    "    for _ in range(b):\n",
    "        res = res * a\n",
    "    return res"
   ]
  },
  {
   "cell_type": "code",
   "execution_count": 54,
   "id": "87695864",
   "metadata": {},
   "outputs": [],
   "source": [
    "def power_recursive(a, b):\n",
    "    if b == 0:\n",
    "        return 1\n",
    "    if b == 1:\n",
    "        return a\n",
    "    else:\n",
    "        return a * power_recursive(a, b - 1)"
   ]
  },
  {
   "cell_type": "code",
   "execution_count": 57,
   "id": "ad2b6e17",
   "metadata": {},
   "outputs": [],
   "source": [
    "def power_fast(a, b):\n",
    "    if b == 0:\n",
    "        return 1\n",
    "    temp = power_fast(a, b // 2)\n",
    "    if b % 2 == 0:\n",
    "        return temp * temp\n",
    "    else:\n",
    "        return a * temp * temp"
   ]
  },
  {
   "cell_type": "markdown",
   "id": "d6b3bcc4",
   "metadata": {},
   "source": [
    "# 18. Bitwise Operators in Python"
   ]
  }
 ],
 "metadata": {
  "kernelspec": {
   "display_name": "Python 3 (ipykernel)",
   "language": "python",
   "name": "python3"
  },
  "language_info": {
   "codemirror_mode": {
    "name": "ipython",
    "version": 3
   },
   "file_extension": ".py",
   "mimetype": "text/x-python",
   "name": "python",
   "nbconvert_exporter": "python",
   "pygments_lexer": "ipython3",
   "version": "3.11.4"
  }
 },
 "nbformat": 4,
 "nbformat_minor": 5
}
