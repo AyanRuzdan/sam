{
 "cells": [
  {
   "cell_type": "markdown",
   "metadata": {},
   "source": [
    "# Table of Contents\n",
    "- [1. Print N to 1 using Recursion](#1.-Print-N-to-1-using-Recursion)\n",
    "- [2. Print 1 to N using Recursion](#2.-Print-1-to-N-using-Recursion)\n",
    "- [3. Sum of natural numbers using recursion](#3.-Sum-of-natural-numbers-using-recursion)\n",
    "- [4. Check if a number is palindrome using recursion](#4.-Check-if-a-number-is-palindrome-using-recursion)\n",
    "- [5. Sum of digits using recursion](#5.-Sum-of-digits-using-recursion)\n",
    "- [8. Tower of Hanoi](#8.-Tower-of-Hanoi)\n",
    "- [9. Print all Permutations](#9.-Print-all-Permutations)"
   ]
  },
  {
   "cell_type": "markdown",
   "metadata": {},
   "source": [
    "# 1. Print N to 1 using Recursion\n",
    "[Go to index](#Table-of-Contents)"
   ]
  },
  {
   "cell_type": "code",
   "execution_count": 17,
   "metadata": {},
   "outputs": [],
   "source": [
    "def n_to_1_recur(n):\n",
    "    if n == 1:\n",
    "        print(1)\n",
    "        return\n",
    "    print(n)\n",
    "    n_to_1_recur(n-1)"
   ]
  },
  {
   "cell_type": "markdown",
   "metadata": {},
   "source": [
    "# 2. Print 1 to N using Recursion\n",
    "[Go to index](#Table-of-Contents)"
   ]
  },
  {
   "cell_type": "code",
   "execution_count": 18,
   "metadata": {},
   "outputs": [],
   "source": [
    "def one_to_n_recur(n):\n",
    "    if n == 1:\n",
    "        print(1)\n",
    "        return\n",
    "    one_to_n_recur(n-1)\n",
    "    print(n)"
   ]
  },
  {
   "cell_type": "code",
   "execution_count": 20,
   "metadata": {},
   "outputs": [],
   "source": [
    "def one_to_n_recur(n):\n",
    "    if n >= 1:\n",
    "        one_to_n_recur(n-1)   \n",
    "        print(n)"
   ]
  },
  {
   "cell_type": "markdown",
   "metadata": {},
   "source": [
    "# 3. Sum of natural numbers using recursion\n",
    "[Go to index](#Table-of-Contents)"
   ]
  },
  {
   "cell_type": "code",
   "execution_count": 21,
   "metadata": {},
   "outputs": [],
   "source": [
    "def sum_recur(n):\n",
    "    if n <= 1:\n",
    "        return 1\n",
    "    return n + sum_recur(n-1)"
   ]
  },
  {
   "cell_type": "markdown",
   "metadata": {},
   "source": [
    "# 4. Check if a number is palindrome using recursion\n",
    "[Go to index](#Table-of-Contents)"
   ]
  },
  {
   "cell_type": "code",
   "execution_count": 30,
   "metadata": {},
   "outputs": [],
   "source": [
    "def palindrome_check_recur(s):\n",
    "    def helper(left, right):\n",
    "        if left >= right:\n",
    "            return True\n",
    "        if s[left] != s[right]:\n",
    "            return False\n",
    "        return helper(left + 1, right - 1)\n",
    "    return helper(0, len(s) - 1)"
   ]
  },
  {
   "cell_type": "code",
   "execution_count": 31,
   "metadata": {},
   "outputs": [
    {
     "data": {
      "text/plain": [
       "True"
      ]
     },
     "execution_count": 31,
     "metadata": {},
     "output_type": "execute_result"
    }
   ],
   "source": [
    "palindrome_check_recur(\"redder\")"
   ]
  },
  {
   "cell_type": "markdown",
   "metadata": {},
   "source": [
    "# 5. Sum of digits using recursion\n",
    "[Go to index](#Table-of-Contents)"
   ]
  },
  {
   "cell_type": "code",
   "execution_count": 32,
   "metadata": {},
   "outputs": [],
   "source": [
    "def sum_of_digits_recur(n):\n",
    "    if n == 0:\n",
    "        return 0\n",
    "    return n % 10 + sum_of_digits_recur(n//10)"
   ]
  },
  {
   "cell_type": "markdown",
   "metadata": {},
   "source": [
    "# 6. Rope Cutting Problem\n",
    "[Go to index](#Table-of-Contents)"
   ]
  },
  {
   "cell_type": "code",
   "execution_count": 38,
   "metadata": {},
   "outputs": [],
   "source": [
    "def max_cuts(n, a, b, c):\n",
    "    if n == 0:\n",
    "        return 0\n",
    "    if n < 0:\n",
    "        return -1\n",
    "    res = max(max_cuts(n-a, a, b, c),\n",
    "              max(max_cuts(n-b, a, b, c), max_cuts(n-c, a, b, c)))\n",
    "    if res == -1:\n",
    "        return -1\n",
    "    return res + 1"
   ]
  },
  {
   "cell_type": "code",
   "execution_count": 39,
   "metadata": {},
   "outputs": [
    {
     "name": "stdout",
     "output_type": "stream",
     "text": [
      "3\n"
     ]
    }
   ],
   "source": [
    "print(max_cuts(17, 11, 10, 3))"
   ]
  },
  {
   "cell_type": "markdown",
   "metadata": {},
   "source": [
    "# 7. Subsets\n",
    "[Go to index](#Table-of-Contents)"
   ]
  },
  {
   "cell_type": "code",
   "execution_count": 45,
   "metadata": {},
   "outputs": [],
   "source": [
    "def subsets(nums):\n",
    "    res = []\n",
    "\n",
    "    def backtrack(index=0, curr=[]):\n",
    "        if index == len(nums):\n",
    "            res.append(curr[:])\n",
    "            return\n",
    "        curr.append(nums[index])\n",
    "        backtrack(index + 1, curr)\n",
    "        curr.pop()\n",
    "        backtrack(index + 1, curr)\n",
    "        \n",
    "    backtrack()\n",
    "    return res"
   ]
  },
  {
   "cell_type": "markdown",
   "metadata": {},
   "source": [
    "# 8. Tower of Hanoi\n",
    "[Go to index](#Table-of-Contents)"
   ]
  },
  {
   "cell_type": "code",
   "execution_count": 52,
   "metadata": {},
   "outputs": [],
   "source": [
    "def hanoi(n, start, aux, end):\n",
    "    if n == 0:\n",
    "        return\n",
    "    hanoi(n-1, start, end, aux)\n",
    "    print(f\"Move disk {n} from rod {start} to {end}\")\n",
    "    hanoi(n-1, aux, start, end)"
   ]
  },
  {
   "cell_type": "markdown",
   "metadata": {},
   "source": [
    "# 9. Print all Permutations\n",
    "[Go to index](#Table-of-Contents)"
   ]
  },
  {
   "cell_type": "code",
   "execution_count": 65,
   "metadata": {},
   "outputs": [],
   "source": [
    "def permutations(s):\n",
    "    def helper(s, l, r):\n",
    "        if l == r:\n",
    "            res.append(\"\".join(s))\n",
    "        else:\n",
    "            for i in range(l, r + 1):\n",
    "                s[l], s[i] = s[i], s[l]\n",
    "                helper(s, l+1, r)\n",
    "                s[l], s[i] = s[i], s[l]\n",
    "    res = []\n",
    "    helper(list(s), 0, len(s) - 1)\n",
    "    return res"
   ]
  },
  {
   "cell_type": "code",
   "execution_count": 70,
   "metadata": {},
   "outputs": [
    {
     "name": "stdout",
     "output_type": "stream",
     "text": [
      "xyz\n",
      "xzy\n",
      "yxz\n",
      "yzx\n",
      "zyx\n",
      "zxy\n"
     ]
    }
   ],
   "source": [
    "for item in permutations(\"xyz\"):\n",
    "    print(item)"
   ]
  },
  {
   "cell_type": "code",
   "execution_count": null,
   "metadata": {},
   "outputs": [],
   "source": []
  }
 ],
 "metadata": {
  "kernelspec": {
   "display_name": "Python 3",
   "language": "python",
   "name": "python3"
  },
  "language_info": {
   "codemirror_mode": {
    "name": "ipython",
    "version": 3
   },
   "file_extension": ".py",
   "mimetype": "text/x-python",
   "name": "python",
   "nbconvert_exporter": "python",
   "pygments_lexer": "ipython3",
   "version": "3.11.4"
  }
 },
 "nbformat": 4,
 "nbformat_minor": 2
}
