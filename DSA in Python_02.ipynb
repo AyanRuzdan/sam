{
 "cells": [
  {
   "cell_type": "markdown",
   "metadata": {},
   "source": [
    "# Table of Contents\n",
    "- [1. Bitwise Operators](#1.-Bitwise-Operators)\n",
    "- [2. Check for power of two](#2.-Check-for-power-of-two)"
   ]
  },
  {
   "cell_type": "code",
   "execution_count": 4,
   "metadata": {},
   "outputs": [],
   "source": [
    "import math"
   ]
  },
  {
   "cell_type": "markdown",
   "metadata": {},
   "source": [
    "> Use `bin()` for binary representation"
   ]
  },
  {
   "cell_type": "markdown",
   "metadata": {},
   "source": [
    "# 1. Bitwise Operators\n",
    "[Go to index](#Table-of-Contents)"
   ]
  },
  {
   "cell_type": "code",
   "execution_count": 8,
   "metadata": {},
   "outputs": [
    {
     "name": "stdout",
     "output_type": "stream",
     "text": [
      "0b1\n",
      "0b10\n",
      "0b0\n",
      "0b11\n",
      "0b11\n",
      "-0b10\n",
      "0b100\n",
      "0b0\n"
     ]
    }
   ],
   "source": [
    "a = 1\n",
    "b = 2\n",
    "print(bin(a))\n",
    "print(bin(b))\n",
    "print(bin(a & b))  # AND\n",
    "print(bin(a | b))  # OR\n",
    "print(bin(a ^ b))  # XOR\n",
    "print(bin(~a))  # NOT\n",
    "print(bin(a << b))  # LEFT SHIFT\n",
    "print(bin(a >> b))  # RIGHT SHIFT"
   ]
  },
  {
   "cell_type": "markdown",
   "metadata": {},
   "source": [
    "# 2. Check for power of two\n",
    "[Go to index](#Table-of-Contents)"
   ]
  },
  {
   "cell_type": "code",
   "execution_count": 11,
   "metadata": {},
   "outputs": [],
   "source": [
    "def power_of_two_log(n):\n",
    "    if n == 0:\n",
    "        return False\n",
    "    return math.ceil(math.log2(n)) == math.floor(math.log2(n))"
   ]
  },
  {
   "cell_type": "code",
   "execution_count": 12,
   "metadata": {},
   "outputs": [
    {
     "name": "stdout",
     "output_type": "stream",
     "text": [
      "True\n",
      "False\n"
     ]
    }
   ],
   "source": [
    "print(power_of_two_log(32))\n",
    "print(power_of_two_log(31))"
   ]
  },
  {
   "cell_type": "code",
   "execution_count": 16,
   "metadata": {},
   "outputs": [],
   "source": [
    "def power_of_two_bitwise(n):\n",
    "    return (n > 0) and (n & (n-1) == 0)"
   ]
  },
  {
   "cell_type": "code",
   "execution_count": 17,
   "metadata": {},
   "outputs": [
    {
     "name": "stdout",
     "output_type": "stream",
     "text": [
      "True\n",
      "False\n"
     ]
    }
   ],
   "source": [
    "print(power_of_two_bitwise(32))\n",
    "print(power_of_two_bitwise(31))\n"
   ]
  },
  {
   "cell_type": "code",
   "execution_count": null,
   "metadata": {},
   "outputs": [],
   "source": []
  }
 ],
 "metadata": {
  "kernelspec": {
   "display_name": "Python 3",
   "language": "python",
   "name": "python3"
  },
  "language_info": {
   "codemirror_mode": {
    "name": "ipython",
    "version": 3
   },
   "file_extension": ".py",
   "mimetype": "text/x-python",
   "name": "python",
   "nbconvert_exporter": "python",
   "pygments_lexer": "ipython3",
   "version": "3.11.4"
  }
 },
 "nbformat": 4,
 "nbformat_minor": 2
}
