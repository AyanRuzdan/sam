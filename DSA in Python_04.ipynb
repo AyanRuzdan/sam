{
 "cells": [
  {
   "cell_type": "markdown",
   "metadata": {},
   "source": [
    "# Table of Contents\n",
    "- [1. Range Sum Queries using Prefix Sum in Python](#1.-Range-Sum-Queries-using-Prefix-Sum-in-Python)\n",
    "- [3. Largest subarray sum](#3.-Largest-subarray-sum)\n",
    "- [4. Merge sorted arrays](#4.-Merge-sorted-arrays)\n",
    "- [6. Second largest in array](#6.-Second-largest-in-array)"
   ]
  },
  {
   "cell_type": "markdown",
   "metadata": {},
   "source": [
    "# 1. Range Sum Queries using Prefix Sum in Python\n",
    "[Go to index](#Table-of-Contents)"
   ]
  },
  {
   "cell_type": "code",
   "execution_count": 13,
   "metadata": {},
   "outputs": [],
   "source": [
    "def range_sum(arr, l, r):\n",
    "    n = len(arr)\n",
    "    prefix = [0] * n\n",
    "    prefix[0] = arr[0]\n",
    "    for i in range(1, n):\n",
    "        prefix[i] = arr[i] + prefix[i-1]\n",
    "    if l == 0:\n",
    "        return prefix[r]\n",
    "    else:\n",
    "        return prefix[r] - prefix[l-1]"
   ]
  },
  {
   "cell_type": "markdown",
   "metadata": {},
   "source": [
    "# 2. Equilibrium index of an array\n",
    "[Go to index](#Table-of-Contents)"
   ]
  },
  {
   "cell_type": "code",
   "execution_count": 17,
   "metadata": {},
   "outputs": [
    {
     "name": "stdout",
     "output_type": "stream",
     "text": [
      "2\n"
     ]
    }
   ],
   "source": [
    "def equilibrium_index_naive(arr):\n",
    "    n = len(arr)\n",
    "    for i in range(n):\n",
    "        left_sum = sum(arr[0:i])\n",
    "        right_sum = sum(arr[i+1:n])\n",
    "        if left_sum == right_sum:\n",
    "            return i\n",
    "    return -1\n",
    "print(equilibrium_index_naive([1,2,3,2,1]))"
   ]
  },
  {
   "cell_type": "code",
   "execution_count": 21,
   "metadata": {},
   "outputs": [
    {
     "name": "stdout",
     "output_type": "stream",
     "text": [
      "2\n"
     ]
    }
   ],
   "source": [
    "def equilibrium_index_optimized(arr):\n",
    "    n = len(arr)\n",
    "    total = sum(arr)\n",
    "    left_sum = 0\n",
    "    for i, value in enumerate(arr):\n",
    "        total -= value\n",
    "        if left_sum == total:\n",
    "            return i\n",
    "        left_sum += value\n",
    "    return -1\n",
    "print(equilibrium_index_optimized([1,2,3,2,1]))"
   ]
  },
  {
   "cell_type": "markdown",
   "metadata": {},
   "source": [
    "# 3. Largest subarray sum\n",
    "[Go to index](#Table-of-Contents)"
   ]
  },
  {
   "cell_type": "code",
   "execution_count": 3,
   "metadata": {},
   "outputs": [
    {
     "name": "stdout",
     "output_type": "stream",
     "text": [
      "10\n"
     ]
    }
   ],
   "source": [
    "def largest_subarray_sum(arr):\n",
    "    max_so_far = float('-inf')\n",
    "    max_ending_here = 0\n",
    "    for i in range(len(arr)):\n",
    "        max_ending_here += arr[i]\n",
    "        if max_so_far <= max_ending_here:\n",
    "            max_so_far = max_ending_here\n",
    "        if max_ending_here < 0:\n",
    "            max_ending_here = 0\n",
    "    return max_so_far\n",
    "print(largest_subarray_sum([1,4,-1,2,-1,5]))"
   ]
  },
  {
   "cell_type": "markdown",
   "metadata": {},
   "source": [
    "# 4. Merge sorted arrays\n",
    "[Go to index](#Table-of-Contents)"
   ]
  },
  {
   "cell_type": "code",
   "execution_count": 7,
   "metadata": {},
   "outputs": [
    {
     "name": "stdout",
     "output_type": "stream",
     "text": [
      "[1, 2, 3, 4, 5, 6, 7, 8, 9]\n"
     ]
    }
   ],
   "source": [
    "def merge_sorted_arrays(arr1, arr2):\n",
    "    m, n = len(arr1), len(arr2)\n",
    "    arr3 = [0] * (m + n)\n",
    "    i, j, k, = 0, 0, 0\n",
    "    while i < m and j < n:\n",
    "        if arr1[i] < arr2[j]:\n",
    "            arr3[k] = arr1[i]\n",
    "            i += 1\n",
    "        else:\n",
    "            arr3[k] = arr2[j]\n",
    "            j += 1\n",
    "        k += 1\n",
    "    while i < m:\n",
    "        arr3[k] = arr1[i]\n",
    "        i += 1\n",
    "        k += 1\n",
    "    while j < n:\n",
    "        arr3[k] = arr2[j]\n",
    "        j += 1\n",
    "        k += 1\n",
    "    return arr3\n",
    "\n",
    "\n",
    "arr1 = [1, 3, 5, 7, 9]\n",
    "arr2 = [2, 4, 6, 8]\n",
    "arr3 = merge_sorted_arrays(arr1, arr2)\n",
    "print(arr3)"
   ]
  },
  {
   "cell_type": "markdown",
   "metadata": {},
   "source": [
    "# 5. Largest number in an array\n",
    "[Go to index](#Table-of-Contents)"
   ]
  },
  {
   "cell_type": "code",
   "execution_count": 8,
   "metadata": {},
   "outputs": [
    {
     "data": {
      "text/plain": [
       "9"
      ]
     },
     "execution_count": 8,
     "metadata": {},
     "output_type": "execute_result"
    }
   ],
   "source": [
    "def largest_in_array_1(arr):\n",
    "    return max(arr)\n",
    "largest_in_array_1([7,8,3,9])"
   ]
  },
  {
   "cell_type": "code",
   "execution_count": 11,
   "metadata": {},
   "outputs": [
    {
     "data": {
      "text/plain": [
       "9"
      ]
     },
     "execution_count": 11,
     "metadata": {},
     "output_type": "execute_result"
    }
   ],
   "source": [
    "def largest_in_array_2(arr):\n",
    "    largest = arr[0]\n",
    "    for num in (arr):\n",
    "        if num >= largest:\n",
    "            largest = num\n",
    "    return largest\n",
    "largest_in_array_2([7,8,3,9])"
   ]
  },
  {
   "cell_type": "markdown",
   "metadata": {},
   "source": [
    "# 6. Second largest in array\n",
    "[Go to index](#Table-of-Contents)"
   ]
  },
  {
   "cell_type": "code",
   "execution_count": 15,
   "metadata": {},
   "outputs": [
    {
     "name": "stdout",
     "output_type": "stream",
     "text": [
      "8\n"
     ]
    }
   ],
   "source": [
    "def second_largest_in_array(arr):\n",
    "    first = second = float('-inf')\n",
    "    for num in arr:\n",
    "        if num > first:\n",
    "            second = first\n",
    "            first = num\n",
    "        elif num > second and num != first:\n",
    "            second = num\n",
    "    return second\n",
    "print(second_largest_in_array([7,8,3,9,9,8]))"
   ]
  },
  {
   "cell_type": "code",
   "execution_count": null,
   "metadata": {},
   "outputs": [],
   "source": []
  }
 ],
 "metadata": {
  "kernelspec": {
   "display_name": "Python 3",
   "language": "python",
   "name": "python3"
  },
  "language_info": {
   "codemirror_mode": {
    "name": "ipython",
    "version": 3
   },
   "file_extension": ".py",
   "mimetype": "text/x-python",
   "name": "python",
   "nbconvert_exporter": "python",
   "pygments_lexer": "ipython3",
   "version": "3.11.4"
  }
 },
 "nbformat": 4,
 "nbformat_minor": 2
}
